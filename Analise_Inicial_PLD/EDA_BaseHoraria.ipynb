{
 "cells": [
  {
   "cell_type": "markdown",
   "metadata": {},
   "source": [
    "# PLD - Análise Exploratória"
   ]
  },
  {
   "cell_type": "code",
   "execution_count": 1,
   "metadata": {},
   "outputs": [],
   "source": [
    "import pandas as pd\n",
    "import matplotlib.pyplot as plt\n",
    "import seaborn as sns"
   ]
  },
  {
   "cell_type": "code",
   "execution_count": 2,
   "metadata": {},
   "outputs": [
    {
     "data": {
      "text/html": [
       "<div>\n",
       "<style scoped>\n",
       "    .dataframe tbody tr th:only-of-type {\n",
       "        vertical-align: middle;\n",
       "    }\n",
       "\n",
       "    .dataframe tbody tr th {\n",
       "        vertical-align: top;\n",
       "    }\n",
       "\n",
       "    .dataframe thead th {\n",
       "        text-align: right;\n",
       "    }\n",
       "</style>\n",
       "<table border=\"1\" class=\"dataframe\">\n",
       "  <thead>\n",
       "    <tr style=\"text-align: right;\">\n",
       "      <th></th>\n",
       "      <th>Hora</th>\n",
       "      <th>Submercado</th>\n",
       "      <th>2018-04-17 00:00:00</th>\n",
       "      <th>2018-04-18 00:00:00</th>\n",
       "      <th>2018-04-19 00:00:00</th>\n",
       "      <th>2018-04-20 00:00:00</th>\n",
       "      <th>2018-04-21 00:00:00</th>\n",
       "      <th>2018-04-25 00:00:00</th>\n",
       "      <th>2018-04-26 00:00:00</th>\n",
       "      <th>2018-04-27 00:00:00</th>\n",
       "      <th>...</th>\n",
       "      <th>2024-03-27 00:00:00</th>\n",
       "      <th>2024-03-28 00:00:00</th>\n",
       "      <th>2024-03-29 00:00:00</th>\n",
       "      <th>2024-03-30 00:00:00</th>\n",
       "      <th>2024-03-31 00:00:00</th>\n",
       "      <th>2024-04-01 00:00:00</th>\n",
       "      <th>2024-04-02 00:00:00</th>\n",
       "      <th>2024-04-03 00:00:00</th>\n",
       "      <th>2024-04-04 00:00:00</th>\n",
       "      <th>2024-04-05 00:00:00</th>\n",
       "    </tr>\n",
       "  </thead>\n",
       "  <tbody>\n",
       "    <tr>\n",
       "      <th>0</th>\n",
       "      <td>0</td>\n",
       "      <td>SUDESTE</td>\n",
       "      <td>40.16</td>\n",
       "      <td>40.16</td>\n",
       "      <td>40.16</td>\n",
       "      <td>112.06</td>\n",
       "      <td>40.16</td>\n",
       "      <td>40.16</td>\n",
       "      <td>130.12</td>\n",
       "      <td>129.33</td>\n",
       "      <td>...</td>\n",
       "      <td>61.07</td>\n",
       "      <td>61.07</td>\n",
       "      <td>61.07</td>\n",
       "      <td>61.07</td>\n",
       "      <td>61.07</td>\n",
       "      <td>61.07</td>\n",
       "      <td>61.07</td>\n",
       "      <td>61.07</td>\n",
       "      <td>61.07</td>\n",
       "      <td>61.07</td>\n",
       "    </tr>\n",
       "    <tr>\n",
       "      <th>1</th>\n",
       "      <td>0</td>\n",
       "      <td>SUL</td>\n",
       "      <td>40.16</td>\n",
       "      <td>40.16</td>\n",
       "      <td>40.16</td>\n",
       "      <td>112.10</td>\n",
       "      <td>40.16</td>\n",
       "      <td>40.16</td>\n",
       "      <td>130.16</td>\n",
       "      <td>129.37</td>\n",
       "      <td>...</td>\n",
       "      <td>61.07</td>\n",
       "      <td>61.07</td>\n",
       "      <td>61.07</td>\n",
       "      <td>61.07</td>\n",
       "      <td>61.07</td>\n",
       "      <td>61.07</td>\n",
       "      <td>61.07</td>\n",
       "      <td>61.07</td>\n",
       "      <td>61.07</td>\n",
       "      <td>61.07</td>\n",
       "    </tr>\n",
       "    <tr>\n",
       "      <th>2</th>\n",
       "      <td>0</td>\n",
       "      <td>NORDESTE</td>\n",
       "      <td>40.16</td>\n",
       "      <td>40.16</td>\n",
       "      <td>40.16</td>\n",
       "      <td>111.69</td>\n",
       "      <td>40.16</td>\n",
       "      <td>40.16</td>\n",
       "      <td>130.01</td>\n",
       "      <td>129.23</td>\n",
       "      <td>...</td>\n",
       "      <td>61.07</td>\n",
       "      <td>61.07</td>\n",
       "      <td>61.07</td>\n",
       "      <td>61.07</td>\n",
       "      <td>61.07</td>\n",
       "      <td>61.07</td>\n",
       "      <td>61.07</td>\n",
       "      <td>61.07</td>\n",
       "      <td>61.07</td>\n",
       "      <td>61.07</td>\n",
       "    </tr>\n",
       "    <tr>\n",
       "      <th>3</th>\n",
       "      <td>0</td>\n",
       "      <td>NORTE</td>\n",
       "      <td>40.16</td>\n",
       "      <td>40.16</td>\n",
       "      <td>40.16</td>\n",
       "      <td>111.65</td>\n",
       "      <td>40.16</td>\n",
       "      <td>40.16</td>\n",
       "      <td>129.97</td>\n",
       "      <td>129.19</td>\n",
       "      <td>...</td>\n",
       "      <td>61.07</td>\n",
       "      <td>61.07</td>\n",
       "      <td>61.07</td>\n",
       "      <td>61.07</td>\n",
       "      <td>61.07</td>\n",
       "      <td>61.07</td>\n",
       "      <td>61.07</td>\n",
       "      <td>61.07</td>\n",
       "      <td>61.07</td>\n",
       "      <td>61.07</td>\n",
       "    </tr>\n",
       "    <tr>\n",
       "      <th>4</th>\n",
       "      <td>1</td>\n",
       "      <td>SUDESTE</td>\n",
       "      <td>40.16</td>\n",
       "      <td>40.16</td>\n",
       "      <td>40.16</td>\n",
       "      <td>112.04</td>\n",
       "      <td>40.16</td>\n",
       "      <td>40.16</td>\n",
       "      <td>130.10</td>\n",
       "      <td>129.31</td>\n",
       "      <td>...</td>\n",
       "      <td>61.07</td>\n",
       "      <td>61.07</td>\n",
       "      <td>61.07</td>\n",
       "      <td>61.07</td>\n",
       "      <td>61.07</td>\n",
       "      <td>61.07</td>\n",
       "      <td>61.07</td>\n",
       "      <td>61.07</td>\n",
       "      <td>61.07</td>\n",
       "      <td>61.07</td>\n",
       "    </tr>\n",
       "    <tr>\n",
       "      <th>...</th>\n",
       "      <td>...</td>\n",
       "      <td>...</td>\n",
       "      <td>...</td>\n",
       "      <td>...</td>\n",
       "      <td>...</td>\n",
       "      <td>...</td>\n",
       "      <td>...</td>\n",
       "      <td>...</td>\n",
       "      <td>...</td>\n",
       "      <td>...</td>\n",
       "      <td>...</td>\n",
       "      <td>...</td>\n",
       "      <td>...</td>\n",
       "      <td>...</td>\n",
       "      <td>...</td>\n",
       "      <td>...</td>\n",
       "      <td>...</td>\n",
       "      <td>...</td>\n",
       "      <td>...</td>\n",
       "      <td>...</td>\n",
       "      <td>...</td>\n",
       "    </tr>\n",
       "    <tr>\n",
       "      <th>95</th>\n",
       "      <td>23</td>\n",
       "      <td>NORTE</td>\n",
       "      <td>114.24</td>\n",
       "      <td>114.84</td>\n",
       "      <td>116.42</td>\n",
       "      <td>117.64</td>\n",
       "      <td>40.16</td>\n",
       "      <td>136.66</td>\n",
       "      <td>136.84</td>\n",
       "      <td>132.57</td>\n",
       "      <td>...</td>\n",
       "      <td>61.07</td>\n",
       "      <td>61.07</td>\n",
       "      <td>61.07</td>\n",
       "      <td>61.07</td>\n",
       "      <td>61.07</td>\n",
       "      <td>61.07</td>\n",
       "      <td>61.07</td>\n",
       "      <td>61.07</td>\n",
       "      <td>61.07</td>\n",
       "      <td>61.07</td>\n",
       "    </tr>\n",
       "    <tr>\n",
       "      <th>96</th>\n",
       "      <td>23</td>\n",
       "      <td>SUDESTE</td>\n",
       "      <td>NaN</td>\n",
       "      <td>NaN</td>\n",
       "      <td>NaN</td>\n",
       "      <td>NaN</td>\n",
       "      <td>NaN</td>\n",
       "      <td>NaN</td>\n",
       "      <td>NaN</td>\n",
       "      <td>NaN</td>\n",
       "      <td>...</td>\n",
       "      <td>NaN</td>\n",
       "      <td>NaN</td>\n",
       "      <td>NaN</td>\n",
       "      <td>NaN</td>\n",
       "      <td>NaN</td>\n",
       "      <td>NaN</td>\n",
       "      <td>NaN</td>\n",
       "      <td>NaN</td>\n",
       "      <td>NaN</td>\n",
       "      <td>NaN</td>\n",
       "    </tr>\n",
       "    <tr>\n",
       "      <th>97</th>\n",
       "      <td>23</td>\n",
       "      <td>SUL</td>\n",
       "      <td>NaN</td>\n",
       "      <td>NaN</td>\n",
       "      <td>NaN</td>\n",
       "      <td>NaN</td>\n",
       "      <td>NaN</td>\n",
       "      <td>NaN</td>\n",
       "      <td>NaN</td>\n",
       "      <td>NaN</td>\n",
       "      <td>...</td>\n",
       "      <td>NaN</td>\n",
       "      <td>NaN</td>\n",
       "      <td>NaN</td>\n",
       "      <td>NaN</td>\n",
       "      <td>NaN</td>\n",
       "      <td>NaN</td>\n",
       "      <td>NaN</td>\n",
       "      <td>NaN</td>\n",
       "      <td>NaN</td>\n",
       "      <td>NaN</td>\n",
       "    </tr>\n",
       "    <tr>\n",
       "      <th>98</th>\n",
       "      <td>23</td>\n",
       "      <td>NORDESTE</td>\n",
       "      <td>NaN</td>\n",
       "      <td>NaN</td>\n",
       "      <td>NaN</td>\n",
       "      <td>NaN</td>\n",
       "      <td>NaN</td>\n",
       "      <td>NaN</td>\n",
       "      <td>NaN</td>\n",
       "      <td>NaN</td>\n",
       "      <td>...</td>\n",
       "      <td>NaN</td>\n",
       "      <td>NaN</td>\n",
       "      <td>NaN</td>\n",
       "      <td>NaN</td>\n",
       "      <td>NaN</td>\n",
       "      <td>NaN</td>\n",
       "      <td>NaN</td>\n",
       "      <td>NaN</td>\n",
       "      <td>NaN</td>\n",
       "      <td>NaN</td>\n",
       "    </tr>\n",
       "    <tr>\n",
       "      <th>99</th>\n",
       "      <td>23</td>\n",
       "      <td>NORTE</td>\n",
       "      <td>NaN</td>\n",
       "      <td>NaN</td>\n",
       "      <td>NaN</td>\n",
       "      <td>NaN</td>\n",
       "      <td>NaN</td>\n",
       "      <td>NaN</td>\n",
       "      <td>NaN</td>\n",
       "      <td>NaN</td>\n",
       "      <td>...</td>\n",
       "      <td>NaN</td>\n",
       "      <td>NaN</td>\n",
       "      <td>NaN</td>\n",
       "      <td>NaN</td>\n",
       "      <td>NaN</td>\n",
       "      <td>NaN</td>\n",
       "      <td>NaN</td>\n",
       "      <td>NaN</td>\n",
       "      <td>NaN</td>\n",
       "      <td>NaN</td>\n",
       "    </tr>\n",
       "  </tbody>\n",
       "</table>\n",
       "<p>100 rows × 2171 columns</p>\n",
       "</div>"
      ],
      "text/plain": [
       "    Hora Submercado  2018-04-17 00:00:00  2018-04-18 00:00:00  \\\n",
       "0      0    SUDESTE                40.16                40.16   \n",
       "1      0        SUL                40.16                40.16   \n",
       "2      0   NORDESTE                40.16                40.16   \n",
       "3      0      NORTE                40.16                40.16   \n",
       "4      1    SUDESTE                40.16                40.16   \n",
       "..   ...        ...                  ...                  ...   \n",
       "95    23      NORTE               114.24               114.84   \n",
       "96    23    SUDESTE                  NaN                  NaN   \n",
       "97    23        SUL                  NaN                  NaN   \n",
       "98    23   NORDESTE                  NaN                  NaN   \n",
       "99    23      NORTE                  NaN                  NaN   \n",
       "\n",
       "    2018-04-19 00:00:00  2018-04-20 00:00:00  2018-04-21 00:00:00  \\\n",
       "0                 40.16               112.06                40.16   \n",
       "1                 40.16               112.10                40.16   \n",
       "2                 40.16               111.69                40.16   \n",
       "3                 40.16               111.65                40.16   \n",
       "4                 40.16               112.04                40.16   \n",
       "..                  ...                  ...                  ...   \n",
       "95               116.42               117.64                40.16   \n",
       "96                  NaN                  NaN                  NaN   \n",
       "97                  NaN                  NaN                  NaN   \n",
       "98                  NaN                  NaN                  NaN   \n",
       "99                  NaN                  NaN                  NaN   \n",
       "\n",
       "    2018-04-25 00:00:00  2018-04-26 00:00:00  2018-04-27 00:00:00  ...  \\\n",
       "0                 40.16               130.12               129.33  ...   \n",
       "1                 40.16               130.16               129.37  ...   \n",
       "2                 40.16               130.01               129.23  ...   \n",
       "3                 40.16               129.97               129.19  ...   \n",
       "4                 40.16               130.10               129.31  ...   \n",
       "..                  ...                  ...                  ...  ...   \n",
       "95               136.66               136.84               132.57  ...   \n",
       "96                  NaN                  NaN                  NaN  ...   \n",
       "97                  NaN                  NaN                  NaN  ...   \n",
       "98                  NaN                  NaN                  NaN  ...   \n",
       "99                  NaN                  NaN                  NaN  ...   \n",
       "\n",
       "    2024-03-27 00:00:00  2024-03-28 00:00:00  2024-03-29 00:00:00  \\\n",
       "0                 61.07                61.07                61.07   \n",
       "1                 61.07                61.07                61.07   \n",
       "2                 61.07                61.07                61.07   \n",
       "3                 61.07                61.07                61.07   \n",
       "4                 61.07                61.07                61.07   \n",
       "..                  ...                  ...                  ...   \n",
       "95                61.07                61.07                61.07   \n",
       "96                  NaN                  NaN                  NaN   \n",
       "97                  NaN                  NaN                  NaN   \n",
       "98                  NaN                  NaN                  NaN   \n",
       "99                  NaN                  NaN                  NaN   \n",
       "\n",
       "    2024-03-30 00:00:00  2024-03-31 00:00:00  2024-04-01 00:00:00  \\\n",
       "0                 61.07                61.07                61.07   \n",
       "1                 61.07                61.07                61.07   \n",
       "2                 61.07                61.07                61.07   \n",
       "3                 61.07                61.07                61.07   \n",
       "4                 61.07                61.07                61.07   \n",
       "..                  ...                  ...                  ...   \n",
       "95                61.07                61.07                61.07   \n",
       "96                  NaN                  NaN                  NaN   \n",
       "97                  NaN                  NaN                  NaN   \n",
       "98                  NaN                  NaN                  NaN   \n",
       "99                  NaN                  NaN                  NaN   \n",
       "\n",
       "    2024-04-02 00:00:00  2024-04-03 00:00:00  2024-04-04 00:00:00  \\\n",
       "0                 61.07                61.07                61.07   \n",
       "1                 61.07                61.07                61.07   \n",
       "2                 61.07                61.07                61.07   \n",
       "3                 61.07                61.07                61.07   \n",
       "4                 61.07                61.07                61.07   \n",
       "..                  ...                  ...                  ...   \n",
       "95                61.07                61.07                61.07   \n",
       "96                  NaN                  NaN                  NaN   \n",
       "97                  NaN                  NaN                  NaN   \n",
       "98                  NaN                  NaN                  NaN   \n",
       "99                  NaN                  NaN                  NaN   \n",
       "\n",
       "    2024-04-05 00:00:00  \n",
       "0                 61.07  \n",
       "1                 61.07  \n",
       "2                 61.07  \n",
       "3                 61.07  \n",
       "4                 61.07  \n",
       "..                  ...  \n",
       "95                61.07  \n",
       "96                  NaN  \n",
       "97                  NaN  \n",
       "98                  NaN  \n",
       "99                  NaN  \n",
       "\n",
       "[100 rows x 2171 columns]"
      ]
     },
     "execution_count": 2,
     "metadata": {},
     "output_type": "execute_result"
    }
   ],
   "source": [
    "path = \"Historico_do_Preco_Horario_-_17_de_abril_de_2018_a_5_de_abril_de_2024.xlsx\"\n",
    "df = pd.read_excel(path)\n",
    "df"
   ]
  },
  {
   "cell_type": "code",
   "execution_count": 3,
   "metadata": {},
   "outputs": [
    {
     "data": {
      "text/plain": [
       "Index(['Hora', 'Submercado'], dtype='object')"
      ]
     },
     "execution_count": 3,
     "metadata": {},
     "output_type": "execute_result"
    }
   ],
   "source": [
    "colunas_normais = df.iloc[:, :2].columns\n",
    "colunas_normais"
   ]
  },
  {
   "cell_type": "code",
   "execution_count": 4,
   "metadata": {},
   "outputs": [
    {
     "data": {
      "text/plain": [
       "Index([2018-04-17 00:00:00, 2018-04-18 00:00:00, 2018-04-19 00:00:00,\n",
       "       2018-04-20 00:00:00, 2018-04-21 00:00:00, 2018-04-25 00:00:00,\n",
       "       2018-04-26 00:00:00, 2018-04-27 00:00:00, 2018-04-28 00:00:00,\n",
       "       2018-04-29 00:00:00,\n",
       "       ...\n",
       "       2024-03-27 00:00:00, 2024-03-28 00:00:00, 2024-03-29 00:00:00,\n",
       "       2024-03-30 00:00:00, 2024-03-31 00:00:00, 2024-04-01 00:00:00,\n",
       "       2024-04-02 00:00:00, 2024-04-03 00:00:00, 2024-04-04 00:00:00,\n",
       "       2024-04-05 00:00:00],\n",
       "      dtype='object', length=2169)"
      ]
     },
     "execution_count": 4,
     "metadata": {},
     "output_type": "execute_result"
    }
   ],
   "source": [
    "colunas_data = df.iloc[:, 2:].columns\n",
    "colunas_data"
   ]
  },
  {
   "cell_type": "code",
   "execution_count": 5,
   "metadata": {},
   "outputs": [
    {
     "data": {
      "text/html": [
       "<div>\n",
       "<style scoped>\n",
       "    .dataframe tbody tr th:only-of-type {\n",
       "        vertical-align: middle;\n",
       "    }\n",
       "\n",
       "    .dataframe tbody tr th {\n",
       "        vertical-align: top;\n",
       "    }\n",
       "\n",
       "    .dataframe thead th {\n",
       "        text-align: right;\n",
       "    }\n",
       "</style>\n",
       "<table border=\"1\" class=\"dataframe\">\n",
       "  <thead>\n",
       "    <tr style=\"text-align: right;\">\n",
       "      <th></th>\n",
       "      <th>Hora</th>\n",
       "      <th>Submercado</th>\n",
       "      <th>Data</th>\n",
       "      <th>Preco</th>\n",
       "    </tr>\n",
       "  </thead>\n",
       "  <tbody>\n",
       "    <tr>\n",
       "      <th>0</th>\n",
       "      <td>0</td>\n",
       "      <td>SUDESTE</td>\n",
       "      <td>2018-04-17 00:00:00</td>\n",
       "      <td>40.16</td>\n",
       "    </tr>\n",
       "    <tr>\n",
       "      <th>1</th>\n",
       "      <td>0</td>\n",
       "      <td>SUL</td>\n",
       "      <td>2018-04-17 00:00:00</td>\n",
       "      <td>40.16</td>\n",
       "    </tr>\n",
       "    <tr>\n",
       "      <th>2</th>\n",
       "      <td>0</td>\n",
       "      <td>NORDESTE</td>\n",
       "      <td>2018-04-17 00:00:00</td>\n",
       "      <td>40.16</td>\n",
       "    </tr>\n",
       "    <tr>\n",
       "      <th>3</th>\n",
       "      <td>0</td>\n",
       "      <td>NORTE</td>\n",
       "      <td>2018-04-17 00:00:00</td>\n",
       "      <td>40.16</td>\n",
       "    </tr>\n",
       "    <tr>\n",
       "      <th>4</th>\n",
       "      <td>1</td>\n",
       "      <td>SUDESTE</td>\n",
       "      <td>2018-04-17 00:00:00</td>\n",
       "      <td>40.16</td>\n",
       "    </tr>\n",
       "    <tr>\n",
       "      <th>...</th>\n",
       "      <td>...</td>\n",
       "      <td>...</td>\n",
       "      <td>...</td>\n",
       "      <td>...</td>\n",
       "    </tr>\n",
       "    <tr>\n",
       "      <th>216895</th>\n",
       "      <td>23</td>\n",
       "      <td>NORTE</td>\n",
       "      <td>2024-04-05 00:00:00</td>\n",
       "      <td>61.07</td>\n",
       "    </tr>\n",
       "    <tr>\n",
       "      <th>216896</th>\n",
       "      <td>23</td>\n",
       "      <td>SUDESTE</td>\n",
       "      <td>2024-04-05 00:00:00</td>\n",
       "      <td>NaN</td>\n",
       "    </tr>\n",
       "    <tr>\n",
       "      <th>216897</th>\n",
       "      <td>23</td>\n",
       "      <td>SUL</td>\n",
       "      <td>2024-04-05 00:00:00</td>\n",
       "      <td>NaN</td>\n",
       "    </tr>\n",
       "    <tr>\n",
       "      <th>216898</th>\n",
       "      <td>23</td>\n",
       "      <td>NORDESTE</td>\n",
       "      <td>2024-04-05 00:00:00</td>\n",
       "      <td>NaN</td>\n",
       "    </tr>\n",
       "    <tr>\n",
       "      <th>216899</th>\n",
       "      <td>23</td>\n",
       "      <td>NORTE</td>\n",
       "      <td>2024-04-05 00:00:00</td>\n",
       "      <td>NaN</td>\n",
       "    </tr>\n",
       "  </tbody>\n",
       "</table>\n",
       "<p>216900 rows × 4 columns</p>\n",
       "</div>"
      ],
      "text/plain": [
       "        Hora Submercado                 Data  Preco\n",
       "0          0    SUDESTE  2018-04-17 00:00:00  40.16\n",
       "1          0        SUL  2018-04-17 00:00:00  40.16\n",
       "2          0   NORDESTE  2018-04-17 00:00:00  40.16\n",
       "3          0      NORTE  2018-04-17 00:00:00  40.16\n",
       "4          1    SUDESTE  2018-04-17 00:00:00  40.16\n",
       "...      ...        ...                  ...    ...\n",
       "216895    23      NORTE  2024-04-05 00:00:00  61.07\n",
       "216896    23    SUDESTE  2024-04-05 00:00:00    NaN\n",
       "216897    23        SUL  2024-04-05 00:00:00    NaN\n",
       "216898    23   NORDESTE  2024-04-05 00:00:00    NaN\n",
       "216899    23      NORTE  2024-04-05 00:00:00    NaN\n",
       "\n",
       "[216900 rows x 4 columns]"
      ]
     },
     "execution_count": 5,
     "metadata": {},
     "output_type": "execute_result"
    }
   ],
   "source": [
    "df = df.melt(id_vars=colunas_normais,value_vars=colunas_data, var_name='Data', value_name='Preco')\n",
    "df"
   ]
  },
  {
   "cell_type": "code",
   "execution_count": 6,
   "metadata": {},
   "outputs": [
    {
     "data": {
      "text/plain": [
       "count    208224.000000\n",
       "mean        174.994029\n",
       "std         163.030014\n",
       "min          39.680000\n",
       "25%          61.070000\n",
       "50%          79.190000\n",
       "75%         254.260000\n",
       "max        1128.720000\n",
       "Name: Preco, dtype: float64"
      ]
     },
     "execution_count": 6,
     "metadata": {},
     "output_type": "execute_result"
    }
   ],
   "source": [
    "df.Preco.describe()"
   ]
  },
  {
   "cell_type": "code",
   "execution_count": 7,
   "metadata": {},
   "outputs": [
    {
     "data": {
      "text/plain": [
       "Hora            int64\n",
       "Submercado     object\n",
       "Data           object\n",
       "Preco         float64\n",
       "dtype: object"
      ]
     },
     "execution_count": 7,
     "metadata": {},
     "output_type": "execute_result"
    }
   ],
   "source": [
    "df.dtypes"
   ]
  },
  {
   "cell_type": "markdown",
   "metadata": {},
   "source": [
    "### Tratamento da Coluna Hora"
   ]
  },
  {
   "cell_type": "markdown",
   "metadata": {},
   "source": [
    "Primeiramente, é necessário deixar os valores da coluna hora no formato hh:mm:ss"
   ]
  },
  {
   "cell_type": "code",
   "execution_count": 8,
   "metadata": {},
   "outputs": [
    {
     "data": {
      "text/plain": [
       "0         0 days 00:00:00\n",
       "1         0 days 00:00:00\n",
       "2         0 days 00:00:00\n",
       "3         0 days 00:00:00\n",
       "4         0 days 01:00:00\n",
       "               ...       \n",
       "216895    0 days 23:00:00\n",
       "216896    0 days 23:00:00\n",
       "216897    0 days 23:00:00\n",
       "216898    0 days 23:00:00\n",
       "216899    0 days 23:00:00\n",
       "Name: Hora, Length: 216900, dtype: object"
      ]
     },
     "execution_count": 8,
     "metadata": {},
     "output_type": "execute_result"
    }
   ],
   "source": [
    "df.Hora = pd.to_timedelta(df.Hora, unit='h') # Converte no formato timedelta\n",
    "df.Hora = df.Hora.astype(str)\n",
    "df.Hora"
   ]
  },
  {
   "cell_type": "markdown",
   "metadata": {},
   "source": [
    "Em seguida, a parte \"0 days\" foi removida das linhas"
   ]
  },
  {
   "cell_type": "code",
   "execution_count": 9,
   "metadata": {},
   "outputs": [
    {
     "data": {
      "text/plain": [
       "0         00:00:00\n",
       "1         00:00:00\n",
       "2         00:00:00\n",
       "3         00:00:00\n",
       "4         01:00:00\n",
       "            ...   \n",
       "216895    23:00:00\n",
       "216896    23:00:00\n",
       "216897    23:00:00\n",
       "216898    23:00:00\n",
       "216899    23:00:00\n",
       "Name: Hora, Length: 216900, dtype: object"
      ]
     },
     "execution_count": 9,
     "metadata": {},
     "output_type": "execute_result"
    }
   ],
   "source": [
    "df.Hora = df.Hora.apply(lambda row: row[7:])\n",
    "df.Hora"
   ]
  },
  {
   "cell_type": "code",
   "execution_count": 10,
   "metadata": {},
   "outputs": [
    {
     "data": {
      "text/plain": [
       "0         2018-04-17\n",
       "1         2018-04-17\n",
       "2         2018-04-17\n",
       "3         2018-04-17\n",
       "4         2018-04-17\n",
       "             ...    \n",
       "216895    2024-04-05\n",
       "216896    2024-04-05\n",
       "216897    2024-04-05\n",
       "216898    2024-04-05\n",
       "216899    2024-04-05\n",
       "Name: Data, Length: 216900, dtype: object"
      ]
     },
     "execution_count": 10,
     "metadata": {},
     "output_type": "execute_result"
    }
   ],
   "source": [
    "df.Data = df.Data.apply(lambda row: str(row)[:10])\n",
    "df.Data"
   ]
  },
  {
   "cell_type": "markdown",
   "metadata": {},
   "source": [
    "Unindo data com hora e deixando o datetime como index. Desse modo, algumas manipulações serão mais fáceis"
   ]
  },
  {
   "cell_type": "code",
   "execution_count": 11,
   "metadata": {},
   "outputs": [
    {
     "data": {
      "text/html": [
       "<div>\n",
       "<style scoped>\n",
       "    .dataframe tbody tr th:only-of-type {\n",
       "        vertical-align: middle;\n",
       "    }\n",
       "\n",
       "    .dataframe tbody tr th {\n",
       "        vertical-align: top;\n",
       "    }\n",
       "\n",
       "    .dataframe thead th {\n",
       "        text-align: right;\n",
       "    }\n",
       "</style>\n",
       "<table border=\"1\" class=\"dataframe\">\n",
       "  <thead>\n",
       "    <tr style=\"text-align: right;\">\n",
       "      <th></th>\n",
       "      <th>Hora</th>\n",
       "      <th>Submercado</th>\n",
       "      <th>Data</th>\n",
       "      <th>Preco</th>\n",
       "    </tr>\n",
       "  </thead>\n",
       "  <tbody>\n",
       "    <tr>\n",
       "      <th>2018-04-17 00:00:00</th>\n",
       "      <td>00:00:00</td>\n",
       "      <td>SUDESTE</td>\n",
       "      <td>2018-04-17</td>\n",
       "      <td>40.16</td>\n",
       "    </tr>\n",
       "    <tr>\n",
       "      <th>2018-04-17 00:00:00</th>\n",
       "      <td>00:00:00</td>\n",
       "      <td>SUL</td>\n",
       "      <td>2018-04-17</td>\n",
       "      <td>40.16</td>\n",
       "    </tr>\n",
       "    <tr>\n",
       "      <th>2018-04-17 00:00:00</th>\n",
       "      <td>00:00:00</td>\n",
       "      <td>NORDESTE</td>\n",
       "      <td>2018-04-17</td>\n",
       "      <td>40.16</td>\n",
       "    </tr>\n",
       "    <tr>\n",
       "      <th>2018-04-17 00:00:00</th>\n",
       "      <td>00:00:00</td>\n",
       "      <td>NORTE</td>\n",
       "      <td>2018-04-17</td>\n",
       "      <td>40.16</td>\n",
       "    </tr>\n",
       "    <tr>\n",
       "      <th>2018-04-17 01:00:00</th>\n",
       "      <td>01:00:00</td>\n",
       "      <td>SUDESTE</td>\n",
       "      <td>2018-04-17</td>\n",
       "      <td>40.16</td>\n",
       "    </tr>\n",
       "    <tr>\n",
       "      <th>...</th>\n",
       "      <td>...</td>\n",
       "      <td>...</td>\n",
       "      <td>...</td>\n",
       "      <td>...</td>\n",
       "    </tr>\n",
       "    <tr>\n",
       "      <th>2024-04-05 23:00:00</th>\n",
       "      <td>23:00:00</td>\n",
       "      <td>NORTE</td>\n",
       "      <td>2024-04-05</td>\n",
       "      <td>61.07</td>\n",
       "    </tr>\n",
       "    <tr>\n",
       "      <th>2024-04-05 23:00:00</th>\n",
       "      <td>23:00:00</td>\n",
       "      <td>SUDESTE</td>\n",
       "      <td>2024-04-05</td>\n",
       "      <td>NaN</td>\n",
       "    </tr>\n",
       "    <tr>\n",
       "      <th>2024-04-05 23:00:00</th>\n",
       "      <td>23:00:00</td>\n",
       "      <td>SUL</td>\n",
       "      <td>2024-04-05</td>\n",
       "      <td>NaN</td>\n",
       "    </tr>\n",
       "    <tr>\n",
       "      <th>2024-04-05 23:00:00</th>\n",
       "      <td>23:00:00</td>\n",
       "      <td>NORDESTE</td>\n",
       "      <td>2024-04-05</td>\n",
       "      <td>NaN</td>\n",
       "    </tr>\n",
       "    <tr>\n",
       "      <th>2024-04-05 23:00:00</th>\n",
       "      <td>23:00:00</td>\n",
       "      <td>NORTE</td>\n",
       "      <td>2024-04-05</td>\n",
       "      <td>NaN</td>\n",
       "    </tr>\n",
       "  </tbody>\n",
       "</table>\n",
       "<p>216900 rows × 4 columns</p>\n",
       "</div>"
      ],
      "text/plain": [
       "                         Hora Submercado        Data  Preco\n",
       "2018-04-17 00:00:00  00:00:00    SUDESTE  2018-04-17  40.16\n",
       "2018-04-17 00:00:00  00:00:00        SUL  2018-04-17  40.16\n",
       "2018-04-17 00:00:00  00:00:00   NORDESTE  2018-04-17  40.16\n",
       "2018-04-17 00:00:00  00:00:00      NORTE  2018-04-17  40.16\n",
       "2018-04-17 01:00:00  01:00:00    SUDESTE  2018-04-17  40.16\n",
       "...                       ...        ...         ...    ...\n",
       "2024-04-05 23:00:00  23:00:00      NORTE  2024-04-05  61.07\n",
       "2024-04-05 23:00:00  23:00:00    SUDESTE  2024-04-05    NaN\n",
       "2024-04-05 23:00:00  23:00:00        SUL  2024-04-05    NaN\n",
       "2024-04-05 23:00:00  23:00:00   NORDESTE  2024-04-05    NaN\n",
       "2024-04-05 23:00:00  23:00:00      NORTE  2024-04-05    NaN\n",
       "\n",
       "[216900 rows x 4 columns]"
      ]
     },
     "execution_count": 11,
     "metadata": {},
     "output_type": "execute_result"
    }
   ],
   "source": [
    "df.index = pd.to_datetime(df.Data + \" \" + df.Hora)\n",
    "df"
   ]
  },
  {
   "cell_type": "markdown",
   "metadata": {},
   "source": [
    "### Análise Exploratória - Nordeste"
   ]
  },
  {
   "cell_type": "code",
   "execution_count": 15,
   "metadata": {},
   "outputs": [
    {
     "data": {
      "text/plain": [
       "Text(0, 0.5, 'PLD (R$/MWh)')"
      ]
     },
     "execution_count": 15,
     "metadata": {},
     "output_type": "execute_result"
    },
    {
     "data": {
      "image/png": "[encoded data removed]",
      "text/plain": [
       "<Figure size 1500x800 with 1 Axes>"
      ]
     },
     "metadata": {},
     "output_type": "display_data"
    }
   ],
   "source": [
    "df_ne = df.loc[df.Submercado == \"SUL\"]\n",
    "plt.figure(figsize=(15,8))\n",
    "plt.plot(df_ne.index, df_ne.Preco)\n",
    "plt.title(\"PLD em base horária (2018-2024)\")\n",
    "plt.xlabel(\"Data\")\n",
    "plt.ylabel(\"PLD (R$/MWh)\")"
   ]
  },
  {
   "cell_type": "code",
   "execution_count": 70,
   "metadata": {},
   "outputs": [
    {
     "data": {
      "text/html": [
       "<div>\n",
       "<style scoped>\n",
       "    .dataframe tbody tr th:only-of-type {\n",
       "        vertical-align: middle;\n",
       "    }\n",
       "\n",
       "    .dataframe tbody tr th {\n",
       "        vertical-align: top;\n",
       "    }\n",
       "\n",
       "    .dataframe thead th {\n",
       "        text-align: right;\n",
       "    }\n",
       "</style>\n",
       "<table border=\"1\" class=\"dataframe\">\n",
       "  <thead>\n",
       "    <tr style=\"text-align: right;\">\n",
       "      <th></th>\n",
       "      <th>Preco</th>\n",
       "    </tr>\n",
       "  </thead>\n",
       "  <tbody>\n",
       "    <tr>\n",
       "      <th>count</th>\n",
       "      <td>52056.000000</td>\n",
       "    </tr>\n",
       "    <tr>\n",
       "      <th>mean</th>\n",
       "      <td>167.153355</td>\n",
       "    </tr>\n",
       "    <tr>\n",
       "      <th>std</th>\n",
       "      <td>160.093651</td>\n",
       "    </tr>\n",
       "    <tr>\n",
       "      <th>min</th>\n",
       "      <td>39.680000</td>\n",
       "    </tr>\n",
       "    <tr>\n",
       "      <th>25%</th>\n",
       "      <td>58.617500</td>\n",
       "    </tr>\n",
       "    <tr>\n",
       "      <th>50%</th>\n",
       "      <td>71.010000</td>\n",
       "    </tr>\n",
       "    <tr>\n",
       "      <th>75%</th>\n",
       "      <td>230.547500</td>\n",
       "    </tr>\n",
       "    <tr>\n",
       "      <th>max</th>\n",
       "      <td>1128.720000</td>\n",
       "    </tr>\n",
       "  </tbody>\n",
       "</table>\n",
       "</div>"
      ],
      "text/plain": [
       "              Preco\n",
       "count  52056.000000\n",
       "mean     167.153355\n",
       "std      160.093651\n",
       "min       39.680000\n",
       "25%       58.617500\n",
       "50%       71.010000\n",
       "75%      230.547500\n",
       "max     1128.720000"
      ]
     },
     "execution_count": 70,
     "metadata": {},
     "output_type": "execute_result"
    }
   ],
   "source": [
    "df_ne.describe()"
   ]
  },
  {
   "cell_type": "code",
   "execution_count": 82,
   "metadata": {},
   "outputs": [
    {
     "data": {
      "text/plain": [
       "Text(0, 0.5, 'PLD (R$/MWh)')"
      ]
     },
     "execution_count": 82,
     "metadata": {},
     "output_type": "execute_result"
    },
    {
     "data": {
      "image/png": "[encoded data removed]",
      "text/plain": [
       "<Figure size 1000x500 with 1 Axes>"
      ]
     },
     "metadata": {},
     "output_type": "display_data"
    }
   ],
   "source": [
    "plt.figure(figsize=(10,5))\n",
    "sns.boxplot(data=df_ne, x=df_ne.index.year,y=\"Preco\")\n",
    "plt.title(\"Distribuição dos valores ao Longo dos Anos\")\n",
    "plt.xlabel(\"Ano\")\n",
    "plt.ylabel(\"PLD (R$/MWh)\")"
   ]
  },
  {
   "cell_type": "code",
   "execution_count": 86,
   "metadata": {},
   "outputs": [
    {
     "data": {
      "text/plain": [
       "Text(0, 0.5, 'PLD (R$/MWh)')"
      ]
     },
     "execution_count": 86,
     "metadata": {},
     "output_type": "execute_result"
    },
    {
     "data": {
      "image/png": "[encoded data removed]",
      "text/plain": [
       "<Figure size 1000x500 with 1 Axes>"
      ]
     },
     "metadata": {},
     "output_type": "display_data"
    }
   ],
   "source": [
    "df_ne_lim = df_ne.loc[df_ne.index.year >= 2022]\n",
    "plt.figure(figsize=(10,5))\n",
    "sns.boxplot(data=df_ne_lim, x=df_ne_lim.index.year,y=\"Preco\")\n",
    "plt.title(\"Distribuição dos valores ao Longo dos Anos(2022-2024)\")\n",
    "plt.xlabel(\"Ano\")\n",
    "plt.ylabel(\"PLD (R$/MWh)\")"
   ]
  },
  {
   "cell_type": "code",
   "execution_count": 87,
   "metadata": {},
   "outputs": [
    {
     "data": {
      "text/plain": [
       "Text(0, 0.5, 'PLD (R$/MWh)')"
      ]
     },
     "execution_count": 87,
     "metadata": {},
     "output_type": "execute_result"
    },
    {
     "data": {
      "image/png": "[encoded data removed]",
      "text/plain": [
       "<Figure size 1000x500 with 1 Axes>"
      ]
     },
     "metadata": {},
     "output_type": "display_data"
    }
   ],
   "source": [
    "plt.figure(figsize=(10,5))\n",
    "plt.plot(df_ne_lim.index, df_ne_lim.Preco)\n",
    "plt.title(\"PLD em base horária (2022-2024)\")\n",
    "plt.xlabel(\"Data\")\n",
    "plt.ylabel(\"PLD (R$/MWh)\")"
   ]
  }
 ],
 "metadata": {
  "kernelspec": {
   "display_name": "tcc",
   "language": "python",
   "name": "python3"
  },
  "language_info": {
   "codemirror_mode": {
    "name": "ipython",
    "version": 3
   },
   "file_extension": ".py",
   "mimetype": "text/x-python",
   "name": "python",
   "nbconvert_exporter": "python",
   "pygments_lexer": "ipython3",
   "version": "3.12.4"
  }
 },
 "nbformat": 4,
 "nbformat_minor": 2
}
